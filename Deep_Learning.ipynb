{
 "cells": [
  {
   "cell_type": "code",
   "execution_count": 1,
   "metadata": {},
   "outputs": [],
   "source": [
    "import pandas as pd"
   ]
  },
  {
   "cell_type": "markdown",
   "metadata": {},
   "source": [
    "\n",
    "# Read the CSV and Perform Basic Data Cleaning\n"
   ]
  },
  {
   "cell_type": "code",
   "execution_count": 2,
   "metadata": {},
   "outputs": [
    {
     "data": {
      "text/html": [
       "<div>\n",
       "<style scoped>\n",
       "    .dataframe tbody tr th:only-of-type {\n",
       "        vertical-align: middle;\n",
       "    }\n",
       "\n",
       "    .dataframe tbody tr th {\n",
       "        vertical-align: top;\n",
       "    }\n",
       "\n",
       "    .dataframe thead th {\n",
       "        text-align: right;\n",
       "    }\n",
       "</style>\n",
       "<table border=\"1\" class=\"dataframe\">\n",
       "  <thead>\n",
       "    <tr style=\"text-align: right;\">\n",
       "      <th></th>\n",
       "      <th>koi_disposition</th>\n",
       "      <th>koi_fpflag_nt</th>\n",
       "      <th>koi_fpflag_ss</th>\n",
       "      <th>koi_fpflag_co</th>\n",
       "      <th>koi_fpflag_ec</th>\n",
       "      <th>koi_period</th>\n",
       "      <th>koi_period_err1</th>\n",
       "      <th>koi_period_err2</th>\n",
       "      <th>koi_time0bk</th>\n",
       "      <th>koi_time0bk_err1</th>\n",
       "      <th>...</th>\n",
       "      <th>koi_steff_err2</th>\n",
       "      <th>koi_slogg</th>\n",
       "      <th>koi_slogg_err1</th>\n",
       "      <th>koi_slogg_err2</th>\n",
       "      <th>koi_srad</th>\n",
       "      <th>koi_srad_err1</th>\n",
       "      <th>koi_srad_err2</th>\n",
       "      <th>ra</th>\n",
       "      <th>dec</th>\n",
       "      <th>koi_kepmag</th>\n",
       "    </tr>\n",
       "  </thead>\n",
       "  <tbody>\n",
       "    <tr>\n",
       "      <th>0</th>\n",
       "      <td>CONFIRMED</td>\n",
       "      <td>0</td>\n",
       "      <td>0</td>\n",
       "      <td>0</td>\n",
       "      <td>0</td>\n",
       "      <td>9.488036</td>\n",
       "      <td>2.775000e-05</td>\n",
       "      <td>-2.775000e-05</td>\n",
       "      <td>170.538750</td>\n",
       "      <td>0.002160</td>\n",
       "      <td>...</td>\n",
       "      <td>-81.0</td>\n",
       "      <td>4.467</td>\n",
       "      <td>0.064</td>\n",
       "      <td>-0.096</td>\n",
       "      <td>0.927</td>\n",
       "      <td>0.105</td>\n",
       "      <td>-0.061</td>\n",
       "      <td>291.93423</td>\n",
       "      <td>48.141651</td>\n",
       "      <td>15.347</td>\n",
       "    </tr>\n",
       "    <tr>\n",
       "      <th>1</th>\n",
       "      <td>CONFIRMED</td>\n",
       "      <td>0</td>\n",
       "      <td>0</td>\n",
       "      <td>0</td>\n",
       "      <td>0</td>\n",
       "      <td>54.418383</td>\n",
       "      <td>2.479000e-04</td>\n",
       "      <td>-2.479000e-04</td>\n",
       "      <td>162.513840</td>\n",
       "      <td>0.003520</td>\n",
       "      <td>...</td>\n",
       "      <td>-81.0</td>\n",
       "      <td>4.467</td>\n",
       "      <td>0.064</td>\n",
       "      <td>-0.096</td>\n",
       "      <td>0.927</td>\n",
       "      <td>0.105</td>\n",
       "      <td>-0.061</td>\n",
       "      <td>291.93423</td>\n",
       "      <td>48.141651</td>\n",
       "      <td>15.347</td>\n",
       "    </tr>\n",
       "    <tr>\n",
       "      <th>2</th>\n",
       "      <td>FALSE POSITIVE</td>\n",
       "      <td>0</td>\n",
       "      <td>1</td>\n",
       "      <td>0</td>\n",
       "      <td>0</td>\n",
       "      <td>19.899140</td>\n",
       "      <td>1.494000e-05</td>\n",
       "      <td>-1.494000e-05</td>\n",
       "      <td>175.850252</td>\n",
       "      <td>0.000581</td>\n",
       "      <td>...</td>\n",
       "      <td>-176.0</td>\n",
       "      <td>4.544</td>\n",
       "      <td>0.044</td>\n",
       "      <td>-0.176</td>\n",
       "      <td>0.868</td>\n",
       "      <td>0.233</td>\n",
       "      <td>-0.078</td>\n",
       "      <td>297.00482</td>\n",
       "      <td>48.134129</td>\n",
       "      <td>15.436</td>\n",
       "    </tr>\n",
       "    <tr>\n",
       "      <th>3</th>\n",
       "      <td>FALSE POSITIVE</td>\n",
       "      <td>0</td>\n",
       "      <td>1</td>\n",
       "      <td>0</td>\n",
       "      <td>0</td>\n",
       "      <td>1.736952</td>\n",
       "      <td>2.630000e-07</td>\n",
       "      <td>-2.630000e-07</td>\n",
       "      <td>170.307565</td>\n",
       "      <td>0.000115</td>\n",
       "      <td>...</td>\n",
       "      <td>-174.0</td>\n",
       "      <td>4.564</td>\n",
       "      <td>0.053</td>\n",
       "      <td>-0.168</td>\n",
       "      <td>0.791</td>\n",
       "      <td>0.201</td>\n",
       "      <td>-0.067</td>\n",
       "      <td>285.53461</td>\n",
       "      <td>48.285210</td>\n",
       "      <td>15.597</td>\n",
       "    </tr>\n",
       "    <tr>\n",
       "      <th>4</th>\n",
       "      <td>CONFIRMED</td>\n",
       "      <td>0</td>\n",
       "      <td>0</td>\n",
       "      <td>0</td>\n",
       "      <td>0</td>\n",
       "      <td>2.525592</td>\n",
       "      <td>3.761000e-06</td>\n",
       "      <td>-3.761000e-06</td>\n",
       "      <td>171.595550</td>\n",
       "      <td>0.001130</td>\n",
       "      <td>...</td>\n",
       "      <td>-211.0</td>\n",
       "      <td>4.438</td>\n",
       "      <td>0.070</td>\n",
       "      <td>-0.210</td>\n",
       "      <td>1.046</td>\n",
       "      <td>0.334</td>\n",
       "      <td>-0.133</td>\n",
       "      <td>288.75488</td>\n",
       "      <td>48.226200</td>\n",
       "      <td>15.509</td>\n",
       "    </tr>\n",
       "  </tbody>\n",
       "</table>\n",
       "<p>5 rows × 41 columns</p>\n",
       "</div>"
      ],
      "text/plain": [
       "  koi_disposition  koi_fpflag_nt  koi_fpflag_ss  koi_fpflag_co  koi_fpflag_ec  \\\n",
       "0       CONFIRMED              0              0              0              0   \n",
       "1       CONFIRMED              0              0              0              0   \n",
       "2  FALSE POSITIVE              0              1              0              0   \n",
       "3  FALSE POSITIVE              0              1              0              0   \n",
       "4       CONFIRMED              0              0              0              0   \n",
       "\n",
       "   koi_period  koi_period_err1  koi_period_err2  koi_time0bk  \\\n",
       "0    9.488036     2.775000e-05    -2.775000e-05   170.538750   \n",
       "1   54.418383     2.479000e-04    -2.479000e-04   162.513840   \n",
       "2   19.899140     1.494000e-05    -1.494000e-05   175.850252   \n",
       "3    1.736952     2.630000e-07    -2.630000e-07   170.307565   \n",
       "4    2.525592     3.761000e-06    -3.761000e-06   171.595550   \n",
       "\n",
       "   koi_time0bk_err1     ...      koi_steff_err2  koi_slogg  koi_slogg_err1  \\\n",
       "0          0.002160     ...               -81.0      4.467           0.064   \n",
       "1          0.003520     ...               -81.0      4.467           0.064   \n",
       "2          0.000581     ...              -176.0      4.544           0.044   \n",
       "3          0.000115     ...              -174.0      4.564           0.053   \n",
       "4          0.001130     ...              -211.0      4.438           0.070   \n",
       "\n",
       "   koi_slogg_err2  koi_srad  koi_srad_err1  koi_srad_err2         ra  \\\n",
       "0          -0.096     0.927          0.105         -0.061  291.93423   \n",
       "1          -0.096     0.927          0.105         -0.061  291.93423   \n",
       "2          -0.176     0.868          0.233         -0.078  297.00482   \n",
       "3          -0.168     0.791          0.201         -0.067  285.53461   \n",
       "4          -0.210     1.046          0.334         -0.133  288.75488   \n",
       "\n",
       "         dec  koi_kepmag  \n",
       "0  48.141651      15.347  \n",
       "1  48.141651      15.347  \n",
       "2  48.134129      15.436  \n",
       "3  48.285210      15.597  \n",
       "4  48.226200      15.509  \n",
       "\n",
       "[5 rows x 41 columns]"
      ]
     },
     "execution_count": 2,
     "metadata": {},
     "output_type": "execute_result"
    }
   ],
   "source": [
    "df = pd.read_csv(\"cumulative.csv\")\n",
    "df = df.drop(columns=[\"rowid\", \"kepid\", \"kepoi_name\", \"kepler_name\", \"koi_pdisposition\", \"koi_score\", \"koi_tce_delivname\"])\n",
    "# Drop the null columns where all values are null\n",
    "df = df.dropna(axis='columns', how='all')\n",
    "# Drop the null rows\n",
    "df = df.dropna()\n",
    "df.head()"
   ]
  },
  {
   "cell_type": "code",
   "execution_count": 3,
   "metadata": {},
   "outputs": [
    {
     "data": {
      "text/plain": [
       "0            CONFIRMED\n",
       "1            CONFIRMED\n",
       "2       False_Positive\n",
       "3       False_Positive\n",
       "4            CONFIRMED\n",
       "5            CONFIRMED\n",
       "6            CONFIRMED\n",
       "7            CONFIRMED\n",
       "8       False_Positive\n",
       "9            CONFIRMED\n",
       "10           CONFIRMED\n",
       "11           CONFIRMED\n",
       "12           CONFIRMED\n",
       "13           CONFIRMED\n",
       "14      False_Positive\n",
       "15      False_Positive\n",
       "16      False_Positive\n",
       "17      False_Positive\n",
       "18           CONFIRMED\n",
       "19           CONFIRMED\n",
       "20      False_Positive\n",
       "21           CONFIRMED\n",
       "22           CONFIRMED\n",
       "23           CONFIRMED\n",
       "24      False_Positive\n",
       "25           CONFIRMED\n",
       "26           CONFIRMED\n",
       "27           CONFIRMED\n",
       "28      False_Positive\n",
       "29      False_Positive\n",
       "             ...      \n",
       "9532    False_Positive\n",
       "9533         CANDIDATE\n",
       "9535    False_Positive\n",
       "9536    False_Positive\n",
       "9537    False_Positive\n",
       "9538    False_Positive\n",
       "9539         CANDIDATE\n",
       "9540         CONFIRMED\n",
       "9541    False_Positive\n",
       "9542         CANDIDATE\n",
       "9543    False_Positive\n",
       "9544         CANDIDATE\n",
       "9545    False_Positive\n",
       "9546         CANDIDATE\n",
       "9548    False_Positive\n",
       "9549    False_Positive\n",
       "9550         CANDIDATE\n",
       "9551         CANDIDATE\n",
       "9552    False_Positive\n",
       "9553    False_Positive\n",
       "9554    False_Positive\n",
       "9555    False_Positive\n",
       "9556    False_Positive\n",
       "9557         CANDIDATE\n",
       "9558         CANDIDATE\n",
       "9559    False_Positive\n",
       "9560    False_Positive\n",
       "9561         CANDIDATE\n",
       "9562    False_Positive\n",
       "9563    False_Positive\n",
       "Name: koi_disposition, Length: 8744, dtype: object"
      ]
     },
     "execution_count": 3,
     "metadata": {},
     "output_type": "execute_result"
    }
   ],
   "source": [
    "# Remove Space for `FALSE POSITIVE` category\n",
    "mask = df[\"koi_disposition\"] == \"FALSE POSITIVE\"\n",
    "df.loc[mask, \"koi_disposition\"] = \"False_Positive\"\n",
    "df[\"koi_disposition\"]"
   ]
  },
  {
   "cell_type": "markdown",
   "metadata": {},
   "source": [
    "# Create a Train Test Split\n",
    "\n",
    "Use `koi_disposition` for the y values"
   ]
  },
  {
   "cell_type": "code",
   "execution_count": null,
   "metadata": {},
   "outputs": [],
   "source": []
  },
  {
   "cell_type": "code",
   "execution_count": 4,
   "metadata": {},
   "outputs": [
    {
     "name": "stdout",
     "output_type": "stream",
     "text": [
      "(8744, 40) (8744,)\n"
     ]
    }
   ],
   "source": [
    "X = df.drop(\"koi_disposition\", axis=1)\n",
    "y = df[\"koi_disposition\"]\n",
    "print(X.shape, y.shape)"
   ]
  },
  {
   "cell_type": "code",
   "execution_count": 5,
   "metadata": {},
   "outputs": [
    {
     "data": {
      "text/html": [
       "<div>\n",
       "<style scoped>\n",
       "    .dataframe tbody tr th:only-of-type {\n",
       "        vertical-align: middle;\n",
       "    }\n",
       "\n",
       "    .dataframe tbody tr th {\n",
       "        vertical-align: top;\n",
       "    }\n",
       "\n",
       "    .dataframe thead th {\n",
       "        text-align: right;\n",
       "    }\n",
       "</style>\n",
       "<table border=\"1\" class=\"dataframe\">\n",
       "  <thead>\n",
       "    <tr style=\"text-align: right;\">\n",
       "      <th></th>\n",
       "      <th>koi_fpflag_nt</th>\n",
       "      <th>koi_fpflag_ss</th>\n",
       "      <th>koi_fpflag_co</th>\n",
       "      <th>koi_fpflag_ec</th>\n",
       "      <th>koi_period</th>\n",
       "      <th>koi_period_err1</th>\n",
       "      <th>koi_period_err2</th>\n",
       "      <th>koi_time0bk</th>\n",
       "      <th>koi_time0bk_err1</th>\n",
       "      <th>koi_time0bk_err2</th>\n",
       "      <th>...</th>\n",
       "      <th>koi_steff_err2</th>\n",
       "      <th>koi_slogg</th>\n",
       "      <th>koi_slogg_err1</th>\n",
       "      <th>koi_slogg_err2</th>\n",
       "      <th>koi_srad</th>\n",
       "      <th>koi_srad_err1</th>\n",
       "      <th>koi_srad_err2</th>\n",
       "      <th>ra</th>\n",
       "      <th>dec</th>\n",
       "      <th>koi_kepmag</th>\n",
       "    </tr>\n",
       "  </thead>\n",
       "  <tbody>\n",
       "    <tr>\n",
       "      <th>3206</th>\n",
       "      <td>0</td>\n",
       "      <td>1</td>\n",
       "      <td>1</td>\n",
       "      <td>0</td>\n",
       "      <td>31.805143</td>\n",
       "      <td>0.000042</td>\n",
       "      <td>-0.000042</td>\n",
       "      <td>186.38905</td>\n",
       "      <td>0.00105</td>\n",
       "      <td>-0.00105</td>\n",
       "      <td>...</td>\n",
       "      <td>-161.0</td>\n",
       "      <td>4.545</td>\n",
       "      <td>0.044</td>\n",
       "      <td>-0.176</td>\n",
       "      <td>0.863</td>\n",
       "      <td>0.217</td>\n",
       "      <td>-0.072</td>\n",
       "      <td>298.04453</td>\n",
       "      <td>40.086361</td>\n",
       "      <td>14.517</td>\n",
       "    </tr>\n",
       "    <tr>\n",
       "      <th>3954</th>\n",
       "      <td>0</td>\n",
       "      <td>0</td>\n",
       "      <td>0</td>\n",
       "      <td>0</td>\n",
       "      <td>24.560711</td>\n",
       "      <td>0.000375</td>\n",
       "      <td>-0.000375</td>\n",
       "      <td>146.79380</td>\n",
       "      <td>0.01610</td>\n",
       "      <td>-0.01610</td>\n",
       "      <td>...</td>\n",
       "      <td>-135.0</td>\n",
       "      <td>4.192</td>\n",
       "      <td>0.137</td>\n",
       "      <td>-0.125</td>\n",
       "      <td>1.499</td>\n",
       "      <td>0.272</td>\n",
       "      <td>-0.245</td>\n",
       "      <td>289.92145</td>\n",
       "      <td>46.744560</td>\n",
       "      <td>12.805</td>\n",
       "    </tr>\n",
       "    <tr>\n",
       "      <th>1410</th>\n",
       "      <td>0</td>\n",
       "      <td>0</td>\n",
       "      <td>0</td>\n",
       "      <td>0</td>\n",
       "      <td>7.560522</td>\n",
       "      <td>0.000026</td>\n",
       "      <td>-0.000026</td>\n",
       "      <td>134.47889</td>\n",
       "      <td>0.00270</td>\n",
       "      <td>-0.00270</td>\n",
       "      <td>...</td>\n",
       "      <td>-211.0</td>\n",
       "      <td>4.503</td>\n",
       "      <td>0.052</td>\n",
       "      <td>-0.208</td>\n",
       "      <td>0.940</td>\n",
       "      <td>0.282</td>\n",
       "      <td>-0.094</td>\n",
       "      <td>283.84515</td>\n",
       "      <td>44.609089</td>\n",
       "      <td>15.986</td>\n",
       "    </tr>\n",
       "    <tr>\n",
       "      <th>5865</th>\n",
       "      <td>0</td>\n",
       "      <td>0</td>\n",
       "      <td>0</td>\n",
       "      <td>0</td>\n",
       "      <td>4.644901</td>\n",
       "      <td>0.000038</td>\n",
       "      <td>-0.000038</td>\n",
       "      <td>133.67436</td>\n",
       "      <td>0.00786</td>\n",
       "      <td>-0.00786</td>\n",
       "      <td>...</td>\n",
       "      <td>-85.0</td>\n",
       "      <td>4.540</td>\n",
       "      <td>0.052</td>\n",
       "      <td>-0.017</td>\n",
       "      <td>0.770</td>\n",
       "      <td>0.027</td>\n",
       "      <td>-0.046</td>\n",
       "      <td>282.34305</td>\n",
       "      <td>48.340778</td>\n",
       "      <td>14.480</td>\n",
       "    </tr>\n",
       "    <tr>\n",
       "      <th>340</th>\n",
       "      <td>0</td>\n",
       "      <td>0</td>\n",
       "      <td>1</td>\n",
       "      <td>1</td>\n",
       "      <td>2.037441</td>\n",
       "      <td>0.000010</td>\n",
       "      <td>-0.000010</td>\n",
       "      <td>133.59962</td>\n",
       "      <td>0.00390</td>\n",
       "      <td>-0.00390</td>\n",
       "      <td>...</td>\n",
       "      <td>-207.0</td>\n",
       "      <td>4.415</td>\n",
       "      <td>0.087</td>\n",
       "      <td>-0.203</td>\n",
       "      <td>1.015</td>\n",
       "      <td>0.312</td>\n",
       "      <td>-0.134</td>\n",
       "      <td>295.79526</td>\n",
       "      <td>47.663960</td>\n",
       "      <td>14.187</td>\n",
       "    </tr>\n",
       "  </tbody>\n",
       "</table>\n",
       "<p>5 rows × 40 columns</p>\n",
       "</div>"
      ],
      "text/plain": [
       "      koi_fpflag_nt  koi_fpflag_ss  koi_fpflag_co  koi_fpflag_ec  koi_period  \\\n",
       "3206              0              1              1              0   31.805143   \n",
       "3954              0              0              0              0   24.560711   \n",
       "1410              0              0              0              0    7.560522   \n",
       "5865              0              0              0              0    4.644901   \n",
       "340               0              0              1              1    2.037441   \n",
       "\n",
       "      koi_period_err1  koi_period_err2  koi_time0bk  koi_time0bk_err1  \\\n",
       "3206         0.000042        -0.000042    186.38905           0.00105   \n",
       "3954         0.000375        -0.000375    146.79380           0.01610   \n",
       "1410         0.000026        -0.000026    134.47889           0.00270   \n",
       "5865         0.000038        -0.000038    133.67436           0.00786   \n",
       "340          0.000010        -0.000010    133.59962           0.00390   \n",
       "\n",
       "      koi_time0bk_err2     ...      koi_steff_err2  koi_slogg  koi_slogg_err1  \\\n",
       "3206          -0.00105     ...              -161.0      4.545           0.044   \n",
       "3954          -0.01610     ...              -135.0      4.192           0.137   \n",
       "1410          -0.00270     ...              -211.0      4.503           0.052   \n",
       "5865          -0.00786     ...               -85.0      4.540           0.052   \n",
       "340           -0.00390     ...              -207.0      4.415           0.087   \n",
       "\n",
       "      koi_slogg_err2  koi_srad  koi_srad_err1  koi_srad_err2         ra  \\\n",
       "3206          -0.176     0.863          0.217         -0.072  298.04453   \n",
       "3954          -0.125     1.499          0.272         -0.245  289.92145   \n",
       "1410          -0.208     0.940          0.282         -0.094  283.84515   \n",
       "5865          -0.017     0.770          0.027         -0.046  282.34305   \n",
       "340           -0.203     1.015          0.312         -0.134  295.79526   \n",
       "\n",
       "            dec  koi_kepmag  \n",
       "3206  40.086361      14.517  \n",
       "3954  46.744560      12.805  \n",
       "1410  44.609089      15.986  \n",
       "5865  48.340778      14.480  \n",
       "340   47.663960      14.187  \n",
       "\n",
       "[5 rows x 40 columns]"
      ]
     },
     "execution_count": 5,
     "metadata": {},
     "output_type": "execute_result"
    }
   ],
   "source": [
    "from sklearn.model_selection import train_test_split\n",
    "\n",
    "X_train, X_test, y_train, y_test = train_test_split(X, y, random_state=42, stratify=y)\n",
    "\n",
    "\n",
    "\n",
    "X_train.head()"
   ]
  },
  {
   "cell_type": "markdown",
   "metadata": {},
   "source": [
    "# Pre-processing\n",
    "\n",
    "Scale the data using the MinMaxScaler"
   ]
  },
  {
   "cell_type": "code",
   "execution_count": 6,
   "metadata": {},
   "outputs": [
    {
     "name": "stderr",
     "output_type": "stream",
     "text": [
      "/anaconda3/envs/PythonWebMongo/lib/python3.6/site-packages/sklearn/preprocessing/data.py:323: DataConversionWarning: Data with input dtype int64, float64 were all converted to float64 by MinMaxScaler.\n",
      "  return self.partial_fit(X, y)\n"
     ]
    }
   ],
   "source": [
    "from sklearn.preprocessing import LabelEncoder, MinMaxScaler\n",
    "X_scaler = MinMaxScaler().fit(X_train)\n",
    "\n",
    "\n",
    "\n",
    "X_train_scaled = X_scaler.transform(X_train)\n",
    "X_test_scaled = X_scaler.transform(X_test)\n",
    "\n"
   ]
  },
  {
   "cell_type": "code",
   "execution_count": 7,
   "metadata": {},
   "outputs": [
    {
     "data": {
      "text/plain": [
       "array([[0.        , 1.        , 1.        , ..., 0.83189028, 0.22431688,\n",
       "        0.62410117],\n",
       "       [0.        , 0.        , 0.        , ..., 0.4604313 , 0.64995237,\n",
       "        0.48260187],\n",
       "       [0.        , 0.        , 0.        , ..., 0.18256917, 0.51343914,\n",
       "        0.74551616],\n",
       "       ...,\n",
       "       [0.        , 0.        , 0.        , ..., 0.66306948, 0.86995096,\n",
       "        0.55855856],\n",
       "       [0.        , 0.        , 0.        , ..., 0.51292434, 0.14943003,\n",
       "        0.62798578],\n",
       "       [0.        , 0.        , 0.        , ..., 0.73668559, 0.35945083,\n",
       "        0.52053889]])"
      ]
     },
     "execution_count": 7,
     "metadata": {},
     "output_type": "execute_result"
    }
   ],
   "source": [
    "X_train_scaled\n",
    "\n"
   ]
  },
  {
   "cell_type": "markdown",
   "metadata": {},
   "source": [
    "# Train the Deep Learning Model\n",
    "\n"
   ]
  },
  {
   "cell_type": "code",
   "execution_count": 9,
   "metadata": {},
   "outputs": [
    {
     "name": "stderr",
     "output_type": "stream",
     "text": [
      "Using TensorFlow backend.\n"
     ]
    }
   ],
   "source": [
    "import tensorflow as tf\n",
    "from keras.models import Sequential\n",
    "from keras.utils import to_categorical\n",
    "from keras.layers import Dense"
   ]
  },
  {
   "cell_type": "code",
   "execution_count": 10,
   "metadata": {},
   "outputs": [],
   "source": [
    "label_encoder = LabelEncoder()\n",
    "label_encoder.fit(y_train)\n",
    "encoded_y_train = label_encoder.transform(y_train)\n",
    "encoded_y_test = label_encoder.transform(y_test)\n"
   ]
  },
  {
   "cell_type": "code",
   "execution_count": 11,
   "metadata": {},
   "outputs": [
    {
     "data": {
      "text/plain": [
       "array([2, 0, 1, ..., 0, 0, 0])"
      ]
     },
     "execution_count": 11,
     "metadata": {},
     "output_type": "execute_result"
    }
   ],
   "source": [
    "encoded_y_train"
   ]
  },
  {
   "cell_type": "code",
   "execution_count": 12,
   "metadata": {},
   "outputs": [],
   "source": [
    "y_train_categorical = to_categorical(encoded_y_train)\n",
    "y_test_categorical = to_categorical(encoded_y_test)"
   ]
  },
  {
   "cell_type": "code",
   "execution_count": 14,
   "metadata": {},
   "outputs": [],
   "source": [
    "# from sklearn.svm import SVC \n",
    "# model = SVC(kernel='linear')\n",
    "# model.fit(X_train_scaled, y_train)"
   ]
  },
  {
   "cell_type": "code",
   "execution_count": 13,
   "metadata": {},
   "outputs": [
    {
     "data": {
      "text/plain": [
       "array([[0., 0., 1.],\n",
       "       [1., 0., 0.],\n",
       "       [0., 1., 0.],\n",
       "       ...,\n",
       "       [1., 0., 0.],\n",
       "       [1., 0., 0.],\n",
       "       [1., 0., 0.]], dtype=float32)"
      ]
     },
     "execution_count": 13,
     "metadata": {},
     "output_type": "execute_result"
    }
   ],
   "source": [
    "y_train_categorical"
   ]
  },
  {
   "cell_type": "code",
   "execution_count": 16,
   "metadata": {},
   "outputs": [
    {
     "data": {
      "text/plain": [
       "(6558, 3)"
      ]
     },
     "execution_count": 16,
     "metadata": {},
     "output_type": "execute_result"
    }
   ],
   "source": [
    "y_train_categorical.shape"
   ]
  },
  {
   "cell_type": "code",
   "execution_count": 17,
   "metadata": {},
   "outputs": [],
   "source": [
    "model = Sequential()\n",
    "model.add(Dense(units=100, activation='relu', input_dim=40))\n",
    "model.add(Dense(units=100, activation='relu'))\n",
    "model.add(Dense(units=3, activation='softmax'))"
   ]
  },
  {
   "cell_type": "code",
   "execution_count": 18,
   "metadata": {},
   "outputs": [],
   "source": [
    "# Compile and fit the model\n",
    "model.compile(optimizer='adam',\n",
    "             loss='categorical_crossentropy',\n",
    "             metrics=['accuracy'])"
   ]
  },
  {
   "cell_type": "code",
   "execution_count": 19,
   "metadata": {},
   "outputs": [
    {
     "name": "stdout",
     "output_type": "stream",
     "text": [
      "_________________________________________________________________\n",
      "Layer (type)                 Output Shape              Param #   \n",
      "=================================================================\n",
      "dense_1 (Dense)              (None, 100)               4100      \n",
      "_________________________________________________________________\n",
      "dense_2 (Dense)              (None, 100)               10100     \n",
      "_________________________________________________________________\n",
      "dense_3 (Dense)              (None, 3)                 303       \n",
      "=================================================================\n",
      "Total params: 14,503\n",
      "Trainable params: 14,503\n",
      "Non-trainable params: 0\n",
      "_________________________________________________________________\n"
     ]
    }
   ],
   "source": [
    "model.summary()"
   ]
  },
  {
   "cell_type": "code",
   "execution_count": 21,
   "metadata": {},
   "outputs": [
    {
     "name": "stdout",
     "output_type": "stream",
     "text": [
      "Epoch 1/60\n",
      " - 0s - loss: 0.5754 - acc: 0.7039\n",
      "Epoch 2/60\n",
      " - 0s - loss: 0.3643 - acc: 0.8135\n",
      "Epoch 3/60\n",
      " - 0s - loss: 0.3466 - acc: 0.8292\n",
      "Epoch 4/60\n",
      " - 0s - loss: 0.3380 - acc: 0.8375\n",
      "Epoch 5/60\n",
      " - 0s - loss: 0.3325 - acc: 0.8416\n",
      "Epoch 6/60\n",
      " - 0s - loss: 0.3276 - acc: 0.8452\n",
      "Epoch 7/60\n",
      " - 0s - loss: 0.3172 - acc: 0.8571\n",
      "Epoch 8/60\n",
      " - 0s - loss: 0.3118 - acc: 0.8576\n",
      "Epoch 9/60\n",
      " - 0s - loss: 0.3059 - acc: 0.8600\n",
      "Epoch 10/60\n",
      " - 0s - loss: 0.3037 - acc: 0.8615\n",
      "Epoch 11/60\n",
      " - 0s - loss: 0.3005 - acc: 0.8638\n",
      "Epoch 12/60\n",
      " - 0s - loss: 0.3033 - acc: 0.8620\n",
      "Epoch 13/60\n",
      " - 0s - loss: 0.2944 - acc: 0.8719\n",
      "Epoch 14/60\n",
      " - 0s - loss: 0.2942 - acc: 0.8718\n",
      "Epoch 15/60\n",
      " - 0s - loss: 0.2869 - acc: 0.8750\n",
      "Epoch 16/60\n",
      " - 0s - loss: 0.2856 - acc: 0.8742\n",
      "Epoch 17/60\n",
      " - 0s - loss: 0.2880 - acc: 0.8745\n",
      "Epoch 18/60\n",
      " - 0s - loss: 0.2792 - acc: 0.8772\n",
      "Epoch 19/60\n",
      " - 0s - loss: 0.2787 - acc: 0.8765\n",
      "Epoch 20/60\n",
      " - 0s - loss: 0.2784 - acc: 0.8771\n",
      "Epoch 21/60\n",
      " - 0s - loss: 0.2786 - acc: 0.8765\n",
      "Epoch 22/60\n",
      " - 0s - loss: 0.2762 - acc: 0.8754\n",
      "Epoch 23/60\n",
      " - 0s - loss: 0.2709 - acc: 0.8821\n",
      "Epoch 24/60\n",
      " - 0s - loss: 0.2743 - acc: 0.8782\n",
      "Epoch 25/60\n",
      " - 0s - loss: 0.2680 - acc: 0.8830\n",
      "Epoch 26/60\n",
      " - 0s - loss: 0.2672 - acc: 0.8827\n",
      "Epoch 27/60\n",
      " - 0s - loss: 0.2681 - acc: 0.8835\n",
      "Epoch 28/60\n",
      " - 0s - loss: 0.2655 - acc: 0.8821\n",
      "Epoch 29/60\n",
      " - 0s - loss: 0.2636 - acc: 0.8846\n",
      "Epoch 30/60\n",
      " - 0s - loss: 0.2679 - acc: 0.8817\n",
      "Epoch 31/60\n",
      " - 0s - loss: 0.2678 - acc: 0.8833\n",
      "Epoch 32/60\n",
      " - 0s - loss: 0.2598 - acc: 0.8872\n",
      "Epoch 33/60\n",
      " - 0s - loss: 0.2619 - acc: 0.8840\n",
      "Epoch 34/60\n",
      " - 0s - loss: 0.2583 - acc: 0.8882\n",
      "Epoch 35/60\n",
      " - 0s - loss: 0.2571 - acc: 0.8872\n",
      "Epoch 36/60\n",
      " - 0s - loss: 0.2579 - acc: 0.8899\n",
      "Epoch 37/60\n",
      " - 0s - loss: 0.2637 - acc: 0.8829\n",
      "Epoch 38/60\n",
      " - 0s - loss: 0.2563 - acc: 0.8856\n",
      "Epoch 39/60\n",
      " - 0s - loss: 0.2541 - acc: 0.8898\n",
      "Epoch 40/60\n",
      " - 0s - loss: 0.2526 - acc: 0.8878\n",
      "Epoch 41/60\n",
      " - 0s - loss: 0.2529 - acc: 0.8898\n",
      "Epoch 42/60\n",
      " - 0s - loss: 0.2521 - acc: 0.8914\n",
      "Epoch 43/60\n",
      " - 0s - loss: 0.2508 - acc: 0.8902\n",
      "Epoch 44/60\n",
      " - 0s - loss: 0.2501 - acc: 0.8887\n",
      "Epoch 45/60\n",
      " - 0s - loss: 0.2492 - acc: 0.8902\n",
      "Epoch 46/60\n",
      " - 0s - loss: 0.2462 - acc: 0.8948\n",
      "Epoch 47/60\n",
      " - 0s - loss: 0.2457 - acc: 0.8894\n",
      "Epoch 48/60\n",
      " - 0s - loss: 0.2464 - acc: 0.8954\n",
      "Epoch 49/60\n",
      " - 0s - loss: 0.2452 - acc: 0.8955\n",
      "Epoch 50/60\n",
      " - 0s - loss: 0.2497 - acc: 0.8908\n",
      "Epoch 51/60\n",
      " - 0s - loss: 0.2504 - acc: 0.8849\n",
      "Epoch 52/60\n",
      " - 0s - loss: 0.2428 - acc: 0.8894\n",
      "Epoch 53/60\n",
      " - 0s - loss: 0.2418 - acc: 0.8927\n",
      "Epoch 54/60\n",
      " - 0s - loss: 0.2446 - acc: 0.8914\n",
      "Epoch 55/60\n",
      " - 0s - loss: 0.2420 - acc: 0.8922\n",
      "Epoch 56/60\n",
      " - 0s - loss: 0.2384 - acc: 0.8920\n",
      "Epoch 57/60\n",
      " - 0s - loss: 0.2378 - acc: 0.8957\n",
      "Epoch 58/60\n",
      " - 0s - loss: 0.2445 - acc: 0.8905\n",
      "Epoch 59/60\n",
      " - 0s - loss: 0.2401 - acc: 0.8939\n",
      "Epoch 60/60\n",
      " - 0s - loss: 0.2356 - acc: 0.8949\n"
     ]
    },
    {
     "data": {
      "text/plain": [
       "<keras.callbacks.History at 0x1a21da1b00>"
      ]
     },
     "execution_count": 21,
     "metadata": {},
     "output_type": "execute_result"
    }
   ],
   "source": [
    "model.fit(\n",
    "    X_train_scaled,\n",
    "    y_train_categorical,\n",
    "    epochs=60,\n",
    "    shuffle=True,\n",
    "    verbose=2)"
   ]
  },
  {
   "cell_type": "code",
   "execution_count": 22,
   "metadata": {},
   "outputs": [
    {
     "name": "stdout",
     "output_type": "stream",
     "text": [
      "Normal Neural Network - Loss: 0.27477779653185785, Accuracy: 0.8774016467344837\n"
     ]
    }
   ],
   "source": [
    "model_loss, model_accuracy = model.evaluate(\n",
    "    X_test_scaled, y_test_categorical, verbose=2)\n",
    "print(f\"Normal Neural Network - Loss: {model_loss}, Accuracy: {model_accuracy}\") \n",
    "    \n"
   ]
  },
  {
   "cell_type": "code",
   "execution_count": 24,
   "metadata": {},
   "outputs": [
    {
     "name": "stdout",
     "output_type": "stream",
     "text": [
      "Deep Neural Network - Loss: 0.27477779653185785, Accuracy: 0.8774016467344837\n"
     ]
    }
   ],
   "source": [
    "model_loss, model_accuracy = model.evaluate(X_test_scaled, y_test_categorical, verbose=2)\n",
    "print(f\"Deep Neural Network - Loss: {model_loss}, Accuracy: {model_accuracy}\")"
   ]
  },
  {
   "cell_type": "code",
   "execution_count": 28,
   "metadata": {},
   "outputs": [],
   "source": [
    "encoded_predictions = model.predict_classes(X_test_scaled[:10])\n",
    "prediction_labels = label_encoder.inverse_transform(encoded_predictions)"
   ]
  },
  {
   "cell_type": "code",
   "execution_count": 29,
   "metadata": {},
   "outputs": [
    {
     "name": "stdout",
     "output_type": "stream",
     "text": [
      "Predicted classes: ['False_Positive' 'CONFIRMED' 'False_Positive' 'False_Positive'\n",
      " 'CONFIRMED' 'False_Positive' 'False_Positive' 'CONFIRMED' 'CONFIRMED'\n",
      " 'CANDIDATE']\n",
      "Actual Labels: ['False_Positive', 'CONFIRMED', 'False_Positive', 'False_Positive', 'CONFIRMED', 'False_Positive', 'False_Positive', 'CONFIRMED', 'CONFIRMED', 'CANDIDATE']\n"
     ]
    }
   ],
   "source": [
    "print(f\"Predicted classes: {prediction_labels}\")\n",
    "print(f\"Actual Labels: {list(y_test[:10])}\")"
   ]
  },
  {
   "cell_type": "code",
   "execution_count": null,
   "metadata": {},
   "outputs": [],
   "source": []
  },
  {
   "cell_type": "code",
   "execution_count": null,
   "metadata": {},
   "outputs": [],
   "source": []
  },
  {
   "cell_type": "code",
   "execution_count": null,
   "metadata": {},
   "outputs": [],
   "source": []
  }
 ],
 "metadata": {
  "kernel_info": {
   "name": "dev"
  },
  "kernelspec": {
   "display_name": "Python 3",
   "language": "python",
   "name": "python3"
  },
  "language_info": {
   "codemirror_mode": {
    "name": "ipython",
    "version": 3
   },
   "file_extension": ".py",
   "mimetype": "text/x-python",
   "name": "python",
   "nbconvert_exporter": "python",
   "pygments_lexer": "ipython3",
   "version": "3.6.7"
  },
  "nteract": {
   "version": "0.12.3"
  }
 },
 "nbformat": 4,
 "nbformat_minor": 2
}
